{
 "cells": [
  {
   "cell_type": "code",
   "execution_count": 1,
   "metadata": {},
   "outputs": [],
   "source": [
    "import config\n",
    "from bs4 import BeautifulSoup\n",
    "import pandas as pd\n",
    "import re"
   ]
  },
  {
   "cell_type": "code",
   "execution_count": 2,
   "metadata": {},
   "outputs": [],
   "source": [
    "name_file = pd.read_csv('league_teams.csv')"
   ]
  },
  {
   "cell_type": "code",
   "execution_count": 3,
   "metadata": {},
   "outputs": [],
   "source": [
    "hrefs = name_file['id']"
   ]
  },
  {
   "cell_type": "code",
   "execution_count": null,
   "metadata": {},
   "outputs": [],
   "source": []
  },
  {
   "cell_type": "code",
   "execution_count": 44,
   "metadata": {},
   "outputs": [],
   "source": [
    "url_pattern = 'index.php?p=public_team_info_players.php&team_id={}'"
   ]
  },
  {
   "cell_type": "code",
   "execution_count": 4,
   "metadata": {},
   "outputs": [],
   "source": [
    "main_pattern = 'https://www.hockeyarena.net/en/'"
   ]
  },
  {
   "cell_type": "code",
   "execution_count": 6,
   "metadata": {},
   "outputs": [],
   "source": [
    "def get_html(url):\n",
    "    html = config.s.get(url, cookies=config.s.cookies)\n",
    "    return html.text"
   ]
  },
  {
   "cell_type": "code",
   "execution_count": 7,
   "metadata": {},
   "outputs": [],
   "source": [
    "def get_soup(html):\n",
    "    soup = BeautifulSoup(html, 'lxml')\n",
    "    return soup"
   ]
  },
  {
   "cell_type": "code",
   "execution_count": 49,
   "metadata": {},
   "outputs": [],
   "source": [
    "total_players = {}"
   ]
  },
  {
   "cell_type": "code",
   "execution_count": 48,
   "metadata": {},
   "outputs": [],
   "source": [
    "def get_table_data(soup):\n",
    "    inside_dict = {}\n",
    "    table = soup.find_all('table')\n",
    "    team_name = ' '.join(table[0].text.strip().split()[3:])\n",
    "    print(team_name)\n",
    "    \n",
    "    players = table[1].find_all('tr', {'class':['sr1','sr2']})\n",
    "    for i in range(len(players)):\n",
    "        player = players[i].text.strip().replace('\\r','').replace('\\t','').split('\\n')\n",
    "        info = {player[0]:player[1:] for p in player}\n",
    "        inside_dict.update(info)\n",
    "        \n",
    "    clean_dict(inside_dict)\n",
    "    clean_dict2(inside_dict)\n",
    "    add_team_name(inside_dict,team_name)\n",
    "    total_players.update(inside_dict)"
   ]
  },
  {
   "cell_type": "code",
   "execution_count": 23,
   "metadata": {},
   "outputs": [],
   "source": [
    "def url_iterator(id):\n",
    "    url = main_pattern + url_pattern.format(id)\n",
    "    get_table_data(get_soup(get_html(url)))"
   ]
  },
  {
   "cell_type": "code",
   "execution_count": 24,
   "metadata": {},
   "outputs": [],
   "source": [
    "def get_team_id(string):\n",
    "    stri = re.findall(r\"\\d+\", string)\n",
    "    clean = str(stri)[2:-2]   #\n",
    "    return clean"
   ]
  },
  {
   "cell_type": "markdown",
   "metadata": {},
   "source": [
    "#### dict cleaners"
   ]
  },
  {
   "cell_type": "code",
   "execution_count": 25,
   "metadata": {},
   "outputs": [],
   "source": [
    "def clean_dict(dic):\n",
    "    for value in dic:\n",
    "        if len(dic[value]) > 12:\n",
    "            try:\n",
    "                dic[value].remove('\\xa0')\n",
    "            except:\n",
    "                ValueError"
   ]
  },
  {
   "cell_type": "code",
   "execution_count": 26,
   "metadata": {},
   "outputs": [],
   "source": [
    "def clean_dict2(dic):\n",
    "    for value in dic:\n",
    "        if len(dic[value]) > 11:\n",
    "            try:\n",
    "                dic[value].remove('')\n",
    "            except:\n",
    "                ValueError"
   ]
  },
  {
   "cell_type": "code",
   "execution_count": 47,
   "metadata": {},
   "outputs": [],
   "source": [
    "def add_team_name(dic,team_name):\n",
    "    for value in dic.items():\n",
    "        value[1].insert(0,str(team_name))"
   ]
  },
  {
   "cell_type": "markdown",
   "metadata": {},
   "source": [
    "### launch the stuff"
   ]
  },
  {
   "cell_type": "code",
   "execution_count": 50,
   "metadata": {},
   "outputs": [
    {
     "name": "stdout",
     "output_type": "stream",
     "text": [
      "Soda Beņķa Sildītāji\n",
      "Arch Enemy\n",
      "HC Vilkatis\n",
      "JOKISS\n",
      "Ergli Elite: Revolution\n",
      "HC Jelgava Stars\n",
      "Patria\n",
      "HC Skonto\n",
      "Traveling Wilburys\n",
      "LATGALE\n",
      "Rockets\n",
      "Kadri\n",
      "Refleks\n",
      "The BDM team\n",
      "hk DEMONS\n",
      "Löfbergs Lila\n"
     ]
    }
   ],
   "source": [
    "for i in hrefs:\n",
    "    url_iterator(get_team_id(i))"
   ]
  },
  {
   "cell_type": "code",
   "execution_count": 51,
   "metadata": {},
   "outputs": [
    {
     "data": {
      "text/plain": [
       "520"
      ]
     },
     "execution_count": 51,
     "metadata": {},
     "output_type": "execute_result"
    }
   ],
   "source": [
    "len(total_players)"
   ]
  },
  {
   "cell_type": "code",
   "execution_count": null,
   "metadata": {},
   "outputs": [],
   "source": []
  },
  {
   "cell_type": "markdown",
   "metadata": {},
   "source": [
    "### columns"
   ]
  },
  {
   "cell_type": "code",
   "execution_count": 56,
   "metadata": {},
   "outputs": [],
   "source": [
    "cols = table[1].findAll('td', class_='ydt')"
   ]
  },
  {
   "cell_type": "code",
   "execution_count": 57,
   "metadata": {},
   "outputs": [],
   "source": [
    "clean_cols = []"
   ]
  },
  {
   "cell_type": "code",
   "execution_count": 58,
   "metadata": {},
   "outputs": [],
   "source": [
    "for col in cols:\n",
    "    col = col.text\n",
    "    clean_cols.append(col)"
   ]
  },
  {
   "cell_type": "code",
   "execution_count": 59,
   "metadata": {},
   "outputs": [
    {
     "data": {
      "text/plain": [
       "['\\xa0Name',\n",
       " 'Age',\n",
       " 'AI',\n",
       " 'GP',\n",
       " 'Sho',\n",
       " 'Goa',\n",
       " 'Ass',\n",
       " '+/-',\n",
       " 'PIM',\n",
       " 'SA',\n",
       " 'GA',\n",
       " 'SV%']"
      ]
     },
     "execution_count": 59,
     "metadata": {},
     "output_type": "execute_result"
    }
   ],
   "source": [
    "clean_cols"
   ]
  },
  {
   "cell_type": "code",
   "execution_count": 75,
   "metadata": {},
   "outputs": [],
   "source": [
    "df = pd.DataFrame.from_dict(total_players, columns=clean_cols, orient='index')"
   ]
  },
  {
   "cell_type": "code",
   "execution_count": 76,
   "metadata": {},
   "outputs": [
    {
     "data": {
      "text/plain": [
       "Index([' Name', 'Age', 'AI', 'GP', 'Sho', 'Goa', 'Ass', '+/-', 'PIM', 'SA',\n",
       "       'GA', 'SV%'],\n",
       "      dtype='object')"
      ]
     },
     "execution_count": 76,
     "metadata": {},
     "output_type": "execute_result"
    }
   ],
   "source": [
    "df.columns"
   ]
  },
  {
   "cell_type": "markdown",
   "metadata": {},
   "source": [
    "### strip column names\n",
    "#### reindex and sort by player names and GP"
   ]
  },
  {
   "cell_type": "code",
   "execution_count": 77,
   "metadata": {},
   "outputs": [],
   "source": [
    "df = df.rename(columns=lambda x: x.strip())"
   ]
  },
  {
   "cell_type": "code",
   "execution_count": 80,
   "metadata": {},
   "outputs": [],
   "source": [
    "df = df.sort_values(by=['Name', 'GP'],ascending=[True, False]).reset_index()"
   ]
  },
  {
   "cell_type": "code",
   "execution_count": 81,
   "metadata": {},
   "outputs": [],
   "source": [
    "df.to_csv('league_teams_players.csv')"
   ]
  },
  {
   "cell_type": "code",
   "execution_count": 83,
   "metadata": {},
   "outputs": [
    {
     "data": {
      "text/html": [
       "<div>\n",
       "<style scoped>\n",
       "    .dataframe tbody tr th:only-of-type {\n",
       "        vertical-align: middle;\n",
       "    }\n",
       "\n",
       "    .dataframe tbody tr th {\n",
       "        vertical-align: top;\n",
       "    }\n",
       "\n",
       "    .dataframe thead th {\n",
       "        text-align: right;\n",
       "    }\n",
       "</style>\n",
       "<table border=\"1\" class=\"dataframe\">\n",
       "  <thead>\n",
       "    <tr style=\"text-align: right;\">\n",
       "      <th></th>\n",
       "      <th>index</th>\n",
       "      <th>Name</th>\n",
       "      <th>Age</th>\n",
       "      <th>AI</th>\n",
       "      <th>GP</th>\n",
       "      <th>Sho</th>\n",
       "      <th>Goa</th>\n",
       "      <th>Ass</th>\n",
       "      <th>+/-</th>\n",
       "      <th>PIM</th>\n",
       "      <th>SA</th>\n",
       "      <th>GA</th>\n",
       "      <th>SV%</th>\n",
       "    </tr>\n",
       "  </thead>\n",
       "  <tbody>\n",
       "    <tr>\n",
       "      <th>0</th>\n",
       "      <td>Juraj Olša</td>\n",
       "      <td>Arch Enemy</td>\n",
       "      <td>33</td>\n",
       "      <td>400</td>\n",
       "      <td>9</td>\n",
       "      <td>12</td>\n",
       "      <td>0</td>\n",
       "      <td>4</td>\n",
       "      <td>3</td>\n",
       "      <td>8</td>\n",
       "      <td>0</td>\n",
       "      <td>0</td>\n",
       "      <td>0</td>\n",
       "    </tr>\n",
       "    <tr>\n",
       "      <th>1</th>\n",
       "      <td>Kimmo Ahomaa</td>\n",
       "      <td>Arch Enemy</td>\n",
       "      <td>32</td>\n",
       "      <td>474</td>\n",
       "      <td>9</td>\n",
       "      <td>16</td>\n",
       "      <td>1</td>\n",
       "      <td>5</td>\n",
       "      <td>11</td>\n",
       "      <td>2</td>\n",
       "      <td>0</td>\n",
       "      <td>0</td>\n",
       "      <td>0</td>\n",
       "    </tr>\n",
       "    <tr>\n",
       "      <th>2</th>\n",
       "      <td>Antyp Khrol</td>\n",
       "      <td>Arch Enemy</td>\n",
       "      <td>32</td>\n",
       "      <td>392</td>\n",
       "      <td>8</td>\n",
       "      <td>19</td>\n",
       "      <td>1</td>\n",
       "      <td>1</td>\n",
       "      <td>10</td>\n",
       "      <td>12</td>\n",
       "      <td>0</td>\n",
       "      <td>0</td>\n",
       "      <td>0</td>\n",
       "    </tr>\n",
       "    <tr>\n",
       "      <th>3</th>\n",
       "      <td>Sviatamir Salaujou</td>\n",
       "      <td>Arch Enemy</td>\n",
       "      <td>33</td>\n",
       "      <td>426</td>\n",
       "      <td>3</td>\n",
       "      <td>13</td>\n",
       "      <td>0</td>\n",
       "      <td>4</td>\n",
       "      <td>7</td>\n",
       "      <td>4</td>\n",
       "      <td>0</td>\n",
       "      <td>0</td>\n",
       "      <td>0</td>\n",
       "    </tr>\n",
       "    <tr>\n",
       "      <th>4</th>\n",
       "      <td>Tymoteusz Czubacki</td>\n",
       "      <td>Arch Enemy</td>\n",
       "      <td>31</td>\n",
       "      <td>403</td>\n",
       "      <td>17</td>\n",
       "      <td>36</td>\n",
       "      <td>0</td>\n",
       "      <td>6</td>\n",
       "      <td>30</td>\n",
       "      <td>14</td>\n",
       "      <td>0</td>\n",
       "      <td>0</td>\n",
       "      <td>0</td>\n",
       "    </tr>\n",
       "    <tr>\n",
       "      <th>5</th>\n",
       "      <td>Mattia Mantegazza</td>\n",
       "      <td>Arch Enemy</td>\n",
       "      <td>33</td>\n",
       "      <td>378</td>\n",
       "      <td>17</td>\n",
       "      <td>32</td>\n",
       "      <td>6</td>\n",
       "      <td>4</td>\n",
       "      <td>10</td>\n",
       "      <td>2</td>\n",
       "      <td>0</td>\n",
       "      <td>0</td>\n",
       "      <td>0</td>\n",
       "    </tr>\n",
       "    <tr>\n",
       "      <th>6</th>\n",
       "      <td>Bodo Herrmann</td>\n",
       "      <td>Arch Enemy</td>\n",
       "      <td>34</td>\n",
       "      <td>407</td>\n",
       "      <td>17</td>\n",
       "      <td>23</td>\n",
       "      <td>1</td>\n",
       "      <td>3</td>\n",
       "      <td>18</td>\n",
       "      <td>4</td>\n",
       "      <td>0</td>\n",
       "      <td>0</td>\n",
       "      <td>0</td>\n",
       "    </tr>\n",
       "    <tr>\n",
       "      <th>7</th>\n",
       "      <td>Bruce De Knegt</td>\n",
       "      <td>Arch Enemy</td>\n",
       "      <td>31</td>\n",
       "      <td>429</td>\n",
       "      <td>17</td>\n",
       "      <td>82</td>\n",
       "      <td>15</td>\n",
       "      <td>10</td>\n",
       "      <td>18</td>\n",
       "      <td>36</td>\n",
       "      <td>0</td>\n",
       "      <td>0</td>\n",
       "      <td>0</td>\n",
       "    </tr>\n",
       "    <tr>\n",
       "      <th>8</th>\n",
       "      <td>Barys  Machayla</td>\n",
       "      <td>Arch Enemy</td>\n",
       "      <td>31</td>\n",
       "      <td>398</td>\n",
       "      <td>17</td>\n",
       "      <td>19</td>\n",
       "      <td>2</td>\n",
       "      <td>4</td>\n",
       "      <td>10</td>\n",
       "      <td>12</td>\n",
       "      <td>0</td>\n",
       "      <td>0</td>\n",
       "      <td>0</td>\n",
       "    </tr>\n",
       "    <tr>\n",
       "      <th>9</th>\n",
       "      <td>Miloslav Beneš</td>\n",
       "      <td>Arch Enemy</td>\n",
       "      <td>34</td>\n",
       "      <td>411</td>\n",
       "      <td>17</td>\n",
       "      <td>60</td>\n",
       "      <td>10</td>\n",
       "      <td>4</td>\n",
       "      <td>18</td>\n",
       "      <td>10</td>\n",
       "      <td>0</td>\n",
       "      <td>0</td>\n",
       "      <td>0</td>\n",
       "    </tr>\n",
       "    <tr>\n",
       "      <th>10</th>\n",
       "      <td>Noah Winther</td>\n",
       "      <td>Arch Enemy</td>\n",
       "      <td>34</td>\n",
       "      <td>453</td>\n",
       "      <td>17</td>\n",
       "      <td>59</td>\n",
       "      <td>15</td>\n",
       "      <td>5</td>\n",
       "      <td>25</td>\n",
       "      <td>8</td>\n",
       "      <td>0</td>\n",
       "      <td>0</td>\n",
       "      <td>0</td>\n",
       "    </tr>\n",
       "    <tr>\n",
       "      <th>11</th>\n",
       "      <td>Arthur Wiegand</td>\n",
       "      <td>Arch Enemy</td>\n",
       "      <td>35</td>\n",
       "      <td>393</td>\n",
       "      <td>17</td>\n",
       "      <td>42</td>\n",
       "      <td>15</td>\n",
       "      <td>6</td>\n",
       "      <td>25</td>\n",
       "      <td>4</td>\n",
       "      <td>0</td>\n",
       "      <td>0</td>\n",
       "      <td>0</td>\n",
       "    </tr>\n",
       "    <tr>\n",
       "      <th>12</th>\n",
       "      <td>Daniel Víšek</td>\n",
       "      <td>Arch Enemy</td>\n",
       "      <td>31</td>\n",
       "      <td>401</td>\n",
       "      <td>17</td>\n",
       "      <td>0</td>\n",
       "      <td>0</td>\n",
       "      <td>0</td>\n",
       "      <td>0</td>\n",
       "      <td>0</td>\n",
       "      <td>276</td>\n",
       "      <td>29</td>\n",
       "      <td>89.5</td>\n",
       "    </tr>\n",
       "  </tbody>\n",
       "</table>\n",
       "</div>"
      ],
      "text/plain": [
       "                 index        Name Age   AI  GP Sho Goa Ass +/- PIM   SA  GA  \\\n",
       "0           Juraj Olša  Arch Enemy  33  400   9  12   0   4   3   8    0   0   \n",
       "1         Kimmo Ahomaa  Arch Enemy  32  474   9  16   1   5  11   2    0   0   \n",
       "2          Antyp Khrol  Arch Enemy  32  392   8  19   1   1  10  12    0   0   \n",
       "3   Sviatamir Salaujou  Arch Enemy  33  426   3  13   0   4   7   4    0   0   \n",
       "4   Tymoteusz Czubacki  Arch Enemy  31  403  17  36   0   6  30  14    0   0   \n",
       "5    Mattia Mantegazza  Arch Enemy  33  378  17  32   6   4  10   2    0   0   \n",
       "6        Bodo Herrmann  Arch Enemy  34  407  17  23   1   3  18   4    0   0   \n",
       "7       Bruce De Knegt  Arch Enemy  31  429  17  82  15  10  18  36    0   0   \n",
       "8      Barys  Machayla  Arch Enemy  31  398  17  19   2   4  10  12    0   0   \n",
       "9       Miloslav Beneš  Arch Enemy  34  411  17  60  10   4  18  10    0   0   \n",
       "10        Noah Winther  Arch Enemy  34  453  17  59  15   5  25   8    0   0   \n",
       "11      Arthur Wiegand  Arch Enemy  35  393  17  42  15   6  25   4    0   0   \n",
       "12        Daniel Víšek  Arch Enemy  31  401  17   0   0   0   0   0  276  29   \n",
       "\n",
       "     SV%  \n",
       "0      0  \n",
       "1      0  \n",
       "2      0  \n",
       "3      0  \n",
       "4      0  \n",
       "5      0  \n",
       "6      0  \n",
       "7      0  \n",
       "8      0  \n",
       "9      0  \n",
       "10     0  \n",
       "11     0  \n",
       "12  89.5  "
      ]
     },
     "execution_count": 83,
     "metadata": {},
     "output_type": "execute_result"
    }
   ],
   "source": [
    "df[:13]"
   ]
  },
  {
   "cell_type": "code",
   "execution_count": null,
   "metadata": {},
   "outputs": [],
   "source": []
  },
  {
   "cell_type": "code",
   "execution_count": 79,
   "metadata": {},
   "outputs": [],
   "source": []
  },
  {
   "cell_type": "code",
   "execution_count": null,
   "metadata": {},
   "outputs": [],
   "source": []
  },
  {
   "cell_type": "code",
   "execution_count": null,
   "metadata": {},
   "outputs": [],
   "source": []
  }
 ],
 "metadata": {
  "kernelspec": {
   "display_name": "Python 3",
   "language": "python",
   "name": "python3"
  },
  "language_info": {
   "codemirror_mode": {
    "name": "ipython",
    "version": 3
   },
   "file_extension": ".py",
   "mimetype": "text/x-python",
   "name": "python",
   "nbconvert_exporter": "python",
   "pygments_lexer": "ipython3",
   "version": "3.6.5"
  }
 },
 "nbformat": 4,
 "nbformat_minor": 2
}
